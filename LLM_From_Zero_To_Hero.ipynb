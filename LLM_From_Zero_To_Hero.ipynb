{
 "cells": [
  {
   "cell_type": "code",
   "execution_count": 1,
   "metadata": {
    "id": "aqlw_8a_wajr"
   },
   "outputs": [],
   "source": [
    "import torch\n",
    "import torch.nn as nn\n",
    "import torch.nn.functional as F\n",
    "import os\n",
    "import requests\n",
    "import math"
   ]
  },
  {
   "cell_type": "markdown",
   "metadata": {
    "id": "agrtMHfyJxfz"
   },
   "source": [
    "## Hyperparameters"
   ]
  },
  {
   "cell_type": "code",
   "execution_count": 2,
   "metadata": {
    "id": "hF-TAq0ZJ1Hj"
   },
   "outputs": [],
   "source": [
    "batch_size = 4\n",
    "context_length = 16\n",
    "d_model = 64\n",
    "num_heads = 4"
   ]
  },
  {
   "cell_type": "markdown",
   "metadata": {
    "id": "ynuOazpjGcma"
   },
   "source": [
    "## Dataset Processing\n",
    "\n",
    "- https://huggingface.co/datasets/goendalf666/sales-textbook_for_convincing_and_selling/tree/main"
   ]
  },
  {
   "cell_type": "code",
   "execution_count": 3,
   "metadata": {
    "id": "7TjAsbWdGf8i"
   },
   "outputs": [],
   "source": [
    "# get the dataset\n",
    "# - https://huggingface.co/datasets/goendalf666/sales-textbook_for_convincing_and_selling/tree/main\n",
    "if not os.path.exists('sales_textbook.txt'):\n",
    "    url = 'https://huggingface.co/datasets/goendalf666/sales-textbook_for_convincing_and_selling/resolve/main/sales_textbook.txt?download=true'\n",
    "    with open('sales_textbook.txt', 'wb') as f:\n",
    "      f.write(requests.get(url).content)\n",
    "\n",
    "with open('sales_textbook.txt', 'r') as f:\n",
    "    text = f.read()"
   ]
  },
  {
   "cell_type": "code",
   "execution_count": null,
   "metadata": {
    "colab": {
     "base_uri": "https://localhost:8080/",
     "height": 174
    },
    "id": "cRp45E_IG-oS",
    "outputId": "25622ebb-7de1-4e88-c51a-6b126c7ee537"
   },
   "outputs": [],
   "source": [
    "text"
   ]
  },
  {
   "cell_type": "markdown",
   "metadata": {
    "id": "QL53SUxJHP7i"
   },
   "source": [
    "### Tokenization"
   ]
  },
  {
   "cell_type": "code",
   "execution_count": null,
   "metadata": {
    "colab": {
     "base_uri": "https://localhost:8080/"
    },
    "id": "bJkmaAqRH1Xr",
    "outputId": "43580b43-10c4-4156-ed0c-5e808780ed5a"
   },
   "outputs": [],
   "source": [
    "!pip install tiktoken"
   ]
  },
  {
   "cell_type": "code",
   "execution_count": 6,
   "metadata": {
    "id": "y06Xoc5UHY2a"
   },
   "outputs": [],
   "source": [
    "# https://github.com/openai/tiktoken\n",
    "import tiktoken\n",
    "enc = tiktoken.get_encoding(\"cl100k_base\") # c1100l_base is the toknizer\n",
    "\n",
    "# tokenize\n",
    "tokens = enc.encode(text)\n",
    "tokens = torch.tensor(tokens, dtype=torch.long)\n",
    "max_token_value = tokens.max().item()"
   ]
  },
  {
   "cell_type": "code",
   "execution_count": null,
   "metadata": {
    "colab": {
     "base_uri": "https://localhost:8080/"
    },
    "id": "nIF580ROILUK",
    "outputId": "94e64484-41e6-478e-9c6c-562971ba28b2"
   },
   "outputs": [],
   "source": [
    "tokens, len(tokens), max_token_value"
   ]
  },
  {
   "cell_type": "markdown",
   "metadata": {
    "id": "6eCSAzBEI1xq"
   },
   "source": [
    "### Split the dataset"
   ]
  },
  {
   "cell_type": "code",
   "execution_count": 8,
   "metadata": {
    "id": "F9ReQ01iJDMZ"
   },
   "outputs": [],
   "source": [
    "train_idex = int(len(tokens) * 0.9)\n",
    "train_data = tokens[:train_idex]\n",
    "val_data = tokens[train_idex:]"
   ]
  },
  {
   "cell_type": "code",
   "execution_count": null,
   "metadata": {
    "colab": {
     "base_uri": "https://localhost:8080/"
    },
    "id": "PQv1gunFJYOJ",
    "outputId": "c056aac3-6a16-4ac4-8b97-612c57a76639"
   },
   "outputs": [],
   "source": [
    "len(train_data), len(val_data)"
   ]
  },
  {
   "cell_type": "code",
   "execution_count": null,
   "metadata": {
    "colab": {
     "base_uri": "https://localhost:8080/"
    },
    "id": "pSQK659EKvt6",
    "outputId": "6e04aa4f-8456-45aa-c3bf-74a119e62ab7"
   },
   "outputs": [],
   "source": [
    "data = train_data\n",
    "idxs = torch.randint(low=0, high=len(data) - context_length, size=(batch_size,))\n",
    "x_batch = torch.stack([torch.tensor(data[idx:idx+context_length]) for idx in idxs])\n",
    "y_batch = torch.stack([torch.tensor(data[idx+1:idx+context_length+1]) for idx in idxs])"
   ]
  },
  {
   "cell_type": "code",
   "execution_count": null,
   "metadata": {
    "colab": {
     "base_uri": "https://localhost:8080/"
    },
    "id": "i8T6qElaLeQH",
    "outputId": "b8e293b5-5efb-4a0a-e052-23ff17de39af"
   },
   "outputs": [],
   "source": [
    "x_batch.size(), y_batch.size()"
   ]
  },
  {
   "cell_type": "code",
   "execution_count": null,
   "metadata": {
    "colab": {
     "base_uri": "https://localhost:8080/",
     "height": 36
    },
    "id": "jgFFoeoSLo1J",
    "outputId": "d355256a-00a4-4c4e-e05e-3246f34fa369"
   },
   "outputs": [],
   "source": [
    "import pandas as pd\n",
    "\n",
    "pd.DataFrame(x_batch[0].numpy())\n",
    "enc.decode(x_batch[0].numpy())"
   ]
  },
  {
   "cell_type": "markdown",
   "metadata": {
    "id": "GGDOh_RSJgyp"
   },
   "source": [
    "# Transformer"
   ]
  },
  {
   "cell_type": "markdown",
   "metadata": {
    "id": "IwE82DRpSulz"
   },
   "source": [
    "## Input Embeddings and Positional Encoding\n",
    "\n",
    "![word_embedding_and_positional_encoding.png](data:image/png;base64,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)"
   ]
  },
  {
   "cell_type": "markdown",
   "metadata": {
    "id": "HEScDR2-Jj5K"
   },
   "source": [
    "### Input Embeddings"
   ]
  },
  {
   "cell_type": "code",
   "execution_count": 13,
   "metadata": {
    "id": "RG9t4VhKMZRj"
   },
   "outputs": [],
   "source": [
    "# define input embedding table\n",
    "input_embedding_table = nn.Embedding(num_embeddings=max_token_value+1, embedding_dim=d_model)"
   ]
  },
  {
   "cell_type": "code",
   "execution_count": null,
   "metadata": {
    "colab": {
     "base_uri": "https://localhost:8080/"
    },
    "id": "JkjyGbGVQCx3",
    "outputId": "89190c4c-3877-48d6-b812-df541ae42984"
   },
   "outputs": [],
   "source": [
    "input_embedding_table.weight.shape, input_embedding_table.weight.data"
   ]
  },
  {
   "cell_type": "code",
   "execution_count": 15,
   "metadata": {
    "id": "9i7LLjiIQnDu"
   },
   "outputs": [],
   "source": [
    "x_batch_embedding = input_embedding_table(x_batch)\n",
    "y_batch_embedding = input_embedding_table(y_batch)"
   ]
  },
  {
   "cell_type": "code",
   "execution_count": null,
   "metadata": {
    "colab": {
     "base_uri": "https://localhost:8080/"
    },
    "id": "F5v3zzClQy7n",
    "outputId": "d56c885e-8699-4524-8f97-9f1159058a36"
   },
   "outputs": [],
   "source": [
    "x_batch_embedding.shape, y_batch_embedding.shape"
   ]
  },
  {
   "cell_type": "markdown",
   "metadata": {
    "id": "S63-6z-bQ-jO"
   },
   "source": [
    "### Positional Encoding"
   ]
  },
  {
   "cell_type": "code",
   "execution_count": 17,
   "metadata": {
    "id": "ePIAnVgKRBKS"
   },
   "outputs": [],
   "source": [
    "# get positional encoding\n",
    "def get_positional_encoding(d_model, context_length):\n",
    "    positional_encoding = torch.zeros(context_length, d_model)\n",
    "    for pos in range(context_length):\n",
    "        for i in range(0, d_model, 2):\n",
    "            positional_encoding[pos, i] = torch.sin(torch.tensor(pos / (10000 ** ((2 * i) / d_model)), dtype=torch.float32))\n",
    "            positional_encoding[pos, i + 1] = torch.cos(torch.tensor(pos / (10000 ** ((2 * (i + 1)) / d_model)), dtype=torch.float32))\n",
    "    return positional_encoding"
   ]
  },
  {
   "cell_type": "code",
   "execution_count": 18,
   "metadata": {
    "id": "C-ZAEnb7RLnW"
   },
   "outputs": [],
   "source": [
    "x = x_batch_embedding + get_positional_encoding(d_model, context_length)\n",
    "y = y_batch_embedding + get_positional_encoding(d_model, context_length)"
   ]
  },
  {
   "cell_type": "code",
   "execution_count": null,
   "metadata": {
    "colab": {
     "base_uri": "https://localhost:8080/",
     "height": 600
    },
    "id": "KNJX8kkzSIP6",
    "outputId": "fa47c2c1-c144-4a30-861c-51f83689e610"
   },
   "outputs": [],
   "source": [
    "pd.DataFrame(x[0].detach().numpy())"
   ]
  },
  {
   "cell_type": "markdown",
   "metadata": {
    "id": "6mSXpy4KSoQK"
   },
   "source": [
    "## Transformer Block"
   ]
  },
  {
   "cell_type": "markdown",
   "metadata": {
    "id": "3pO5QAuLS2TZ"
   },
   "source": [
    "### Maksed Multi-Head Attention![image (3).png](data:image/png;base64,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)\n"
   ]
  },
  {
   "cell_type": "code",
   "execution_count": 20,
   "metadata": {
    "id": "mA3OKq1z1aH_"
   },
   "outputs": [],
   "source": [
    "# get Q, K, V\n",
    "Wq = nn.Linear(in_features=d_model, out_features=d_model)\n",
    "Wk = nn.Linear(in_features=d_model, out_features=d_model)\n",
    "Wv = nn.Linear(in_features=d_model, out_features=d_model)\n",
    "\n",
    "Q = Wq(x)  # Wq*x\n",
    "K = Wk(x)  # Wk*x\n",
    "V = Wv(x)  # Wv*x"
   ]
  },
  {
   "cell_type": "code",
   "execution_count": null,
   "metadata": {
    "colab": {
     "base_uri": "https://localhost:8080/"
    },
    "id": "GMo7SIBM2WC7",
    "outputId": "37ee1644-5a76-459b-f67a-98a570a49f58"
   },
   "outputs": [],
   "source": [
    "Q.shape, K.shape, V.shape"
   ]
  },
  {
   "cell_type": "code",
   "execution_count": 22,
   "metadata": {
    "id": "9eZSZA-32WAw"
   },
   "outputs": [],
   "source": [
    "# apply multi head\n",
    "Q = Q.view(batch_size, context_length, num_heads, d_model // num_heads)\n",
    "K = K.view(batch_size, context_length, num_heads, d_model // num_heads)\n",
    "V = V.view(batch_size, context_length, num_heads, d_model // num_heads)\n",
    "\n",
    "Q = Q.permute(0, 2, 1, 3)\n",
    "K = K.permute(0, 2, 1, 3)\n",
    "V = V.permute(0, 2, 1, 3)"
   ]
  },
  {
   "cell_type": "code",
   "execution_count": null,
   "metadata": {
    "colab": {
     "base_uri": "https://localhost:8080/"
    },
    "id": "AOSninG23jBY",
    "outputId": "34716fe6-7712-440f-8e2c-88890bbcc904"
   },
   "outputs": [],
   "source": [
    "Q.shape, K.shape, V.shape"
   ]
  },
  {
   "cell_type": "code",
   "execution_count": 24,
   "metadata": {
    "id": "HYUc_G4445xH"
   },
   "outputs": [],
   "source": [
    "# apply scaled dot-product\n",
    "output = Q @ K.transpose(-2, -1) / math.sqrt(d_model // num_heads)"
   ]
  },
  {
   "cell_type": "code",
   "execution_count": 25,
   "metadata": {
    "id": "gJUdfq8L6vep"
   },
   "outputs": [],
   "source": [
    "# apply mask\n",
    "mask = torch.tril(torch.ones(context_length, context_length))\n",
    "output = output.masked_fill(mask == 0, float('-inf'))"
   ]
  },
  {
   "cell_type": "code",
   "execution_count": 26,
   "metadata": {
    "id": "efVHHZXK64Q7"
   },
   "outputs": [],
   "source": [
    "# apply softmax\n",
    "attention_score = F.softmax(output, dim=-1)"
   ]
  },
  {
   "cell_type": "code",
   "execution_count": 27,
   "metadata": {
    "id": "ZH90KbUy7sPF"
   },
   "outputs": [],
   "source": [
    "# apply attention @ V\n",
    "A = attention_score @ V"
   ]
  },
  {
   "cell_type": "code",
   "execution_count": 28,
   "metadata": {
    "id": "9CVqJfzv8AWJ"
   },
   "outputs": [],
   "source": [
    "# apply concat\n",
    "A = A.transpose(1, 2).contiguous().view(batch_size, context_length, d_model)\n",
    "Wo = nn.Linear(in_features=d_model, out_features=d_model)\n",
    "output = Wo(A)"
   ]
  },
  {
   "cell_type": "code",
   "execution_count": null,
   "metadata": {
    "colab": {
     "base_uri": "https://localhost:8080/"
    },
    "id": "O_Mq-axP8GzZ",
    "outputId": "d7775b9a-0897-4eb0-fdb6-345c1e6ba143"
   },
   "outputs": [],
   "source": [
    "output.shape"
   ]
  },
  {
   "cell_type": "markdown",
   "metadata": {
    "id": "YU8DS80N9RcX"
   },
   "source": [
    "### Add & Norm\n",
    "![add_norm.png](data:image/png;base64,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)\n",
    "\n"
   ]
  },
  {
   "cell_type": "code",
   "execution_count": 30,
   "metadata": {
    "id": "-Zsj_HV89fD3"
   },
   "outputs": [],
   "source": [
    "# apply residual connection\n",
    "output = output + x"
   ]
  },
  {
   "cell_type": "code",
   "execution_count": 31,
   "metadata": {
    "id": "VuOXywRi9uaY"
   },
   "outputs": [],
   "source": [
    "# apply layer normalization\n",
    "layer_norm = nn.LayerNorm(d_model)\n",
    "layer_norm_output = layer_norm(output)"
   ]
  },
  {
   "cell_type": "markdown",
   "metadata": {
    "id": "Xk-nn75q-Xor"
   },
   "source": [
    "### Feed Forward Network\n",
    "\n",
    "![feed_forward_network.png](data:image/png;base64,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)"
   ]
  },
  {
   "cell_type": "code",
   "execution_count": 32,
   "metadata": {
    "id": "HzfFoUKf9_l-"
   },
   "outputs": [],
   "source": [
    "# apply feed forware network\n",
    "output = nn.Linear(in_features=d_model, out_features=d_model * 4)(layer_norm_output)\n",
    "output = nn.ReLU()(output)\n",
    "output = nn.Linear(in_features=d_model * 4, out_features=d_model)(output)"
   ]
  },
  {
   "cell_type": "code",
   "execution_count": null,
   "metadata": {
    "colab": {
     "base_uri": "https://localhost:8080/"
    },
    "id": "Maze_ga6-9xQ",
    "outputId": "bdddc1c1-c604-446b-f337-ca21eecb9139"
   },
   "outputs": [],
   "source": [
    "# apply Add & Norm\n",
    "output = output + layer_norm_output\n",
    "output = layer_norm(output)\n",
    "output.shape"
   ]
  },
  {
   "cell_type": "markdown",
   "metadata": {
    "id": "o3UeVeoL_8op"
   },
   "source": [
    "## Linear"
   ]
  },
  {
   "cell_type": "code",
   "execution_count": null,
   "metadata": {
    "colab": {
     "base_uri": "https://localhost:8080/"
    },
    "id": "CaJ39uFBAFcu",
    "outputId": "ad6121c3-0df5-4836-d377-a67f87f5ef91"
   },
   "outputs": [],
   "source": [
    "# define final linear layer\n",
    "output = nn.Linear(in_features=d_model, out_features=max_token_value+1)(output)\n",
    "\n",
    "output.shape"
   ]
  },
  {
   "cell_type": "markdown",
   "metadata": {
    "id": "ERoQTcpsABDl"
   },
   "source": [
    "## Softmax and Output Probabilities"
   ]
  },
  {
   "cell_type": "code",
   "execution_count": 35,
   "metadata": {
    "id": "6rvjfuqVBcLA"
   },
   "outputs": [],
   "source": [
    "# apply softmax to get output probabilities\n",
    "logits = F.softmax(output, dim=-1)"
   ]
  },
  {
   "cell_type": "code",
   "execution_count": null,
   "metadata": {
    "colab": {
     "base_uri": "https://localhost:8080/",
     "height": 36
    },
    "id": "1rF01bj8CJY1",
    "outputId": "1be8be0e-032f-4df4-d46d-6fdb511f5876"
   },
   "outputs": [],
   "source": [
    "# get the final output\n",
    "predicted_indx = torch.argmax(logits[0, 0], dim=-1).item()\n",
    "\n",
    "# decode\n",
    "enc.decode([predicted_indx])"
   ]
  }
 ],
 "metadata": {
  "colab": {
   "provenance": []
  },
  "kernelspec": {
   "display_name": "Python 3",
   "name": "python3"
  },
  "language_info": {
   "codemirror_mode": {
    "name": "ipython",
    "version": 3
   },
   "file_extension": ".py",
   "mimetype": "text/x-python",
   "name": "python",
   "nbconvert_exporter": "python",
   "pygments_lexer": "ipython3",
   "version": "3.10.5"
  }
 },
 "nbformat": 4,
 "nbformat_minor": 0
}
